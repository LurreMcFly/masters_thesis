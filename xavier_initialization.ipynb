{
 "cells": [
  {
   "cell_type": "markdown",
   "metadata": {},
   "source": [
    "# Notebook referenced in Master's Tesis at LTH 2020\n",
    "## Learning Techniques in Anomaly Detection\n",
    "#### By: Jonas Lundgren\n",
    "\n",
    "Notebook showing the impact of Xavier Initialization (first proposed by Xavier Glorot and Yoshua Bengio in [*]) using sigmoid as activation function, on the mean and standard deviation for an input $x$.\n",
    "\n",
    "[*]http://proceedings.mlr.press/v9/glorot10a/glorot10a.pdf "
   ]
  },
  {
   "cell_type": "markdown",
   "metadata": {},
   "source": [
    "Import pytorch used in the thesis."
   ]
  },
  {
   "cell_type": "code",
   "execution_count": 1,
   "metadata": {},
   "outputs": [],
   "source": [
    "import torch"
   ]
  },
  {
   "cell_type": "markdown",
   "metadata": {},
   "source": [
    "Initializing a random vector $x$ with 1000 random numbers from a normal distribution. And a zero matrix $a$ of size 1000 $\\times$ 1000."
   ]
  },
  {
   "cell_type": "code",
   "execution_count": 2,
   "metadata": {},
   "outputs": [],
   "source": [
    "x = torch.randn(1000)\n",
    "a = torch.zeros(1000, 1000)"
   ]
  },
  {
   "cell_type": "markdown",
   "metadata": {},
   "source": [
    "Calculating the output mean and standard deviation after 2 matrix munltiplications. The acctual number of matrix munltiplications in the meta model."
   ]
  },
  {
   "cell_type": "code",
   "execution_count": 3,
   "metadata": {},
   "outputs": [
    {
     "name": "stdout",
     "output_type": "stream",
     "text": [
      "After 2 matrix multiplications with Xavier initialized matrices\n",
      "Output mean: 0.4975464344024658\n",
      "Output std:  0.120906762778759\n"
     ]
    }
   ],
   "source": [
    "for i in range(2):\n",
    "    a = torch.nn.init.xavier_uniform_(a)\n",
    "    x = torch.sigmoid(a @ x)\n",
    "print('After 2 matrix multiplications with Xavier initialized matrices')\n",
    "print('Output mean: {mean}\\nOutput std:  {std}'.format(mean=x.mean(), std=x.std()))"
   ]
  },
  {
   "cell_type": "markdown",
   "metadata": {},
   "source": [
    "Calculating the output mean and standard deviation after 100 matrix munltiplications. To see if converging similar values."
   ]
  },
  {
   "cell_type": "code",
   "execution_count": 4,
   "metadata": {},
   "outputs": [
    {
     "name": "stdout",
     "output_type": "stream",
     "text": [
      "After 2 matrix multiplications with Xavier initialized matrices\n",
      "Output mean: 0.4956882894039154\n",
      "Output std:  0.11690334975719452\n"
     ]
    }
   ],
   "source": [
    "for i in range(100):\n",
    "    a = torch.nn.init.xavier_uniform_(a)\n",
    "    x = torch.sigmoid(a @ x)\n",
    "print('After 2 matrix multiplications with Xavier initialized matrices')\n",
    "print('Output mean: {mean}\\nOutput std:  {std}'.format(mean=x.mean(), std=x.std()))"
   ]
  },
  {
   "cell_type": "code",
   "execution_count": null,
   "metadata": {},
   "outputs": [],
   "source": []
  }
 ],
 "metadata": {
  "kernelspec": {
   "display_name": "Python 3",
   "language": "python",
   "name": "python3"
  },
  "language_info": {
   "codemirror_mode": {
    "name": "ipython",
    "version": 3
   },
   "file_extension": ".py",
   "mimetype": "text/x-python",
   "name": "python",
   "nbconvert_exporter": "python",
   "pygments_lexer": "ipython3",
   "version": "3.7.6"
  }
 },
 "nbformat": 4,
 "nbformat_minor": 4
}
